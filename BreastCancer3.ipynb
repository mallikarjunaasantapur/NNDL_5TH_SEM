{
 "cells": [
  {
   "cell_type": "code",
   "execution_count": 5,
   "id": "96d72c6b-4c49-437c-af31-b784f8d70906",
   "metadata": {
    "tags": []
   },
   "outputs": [],
   "source": [
    "import pandas as pd\n",
    "from sklearn.datasets import load_breast_cancer"
   ]
  },
  {
   "cell_type": "code",
   "execution_count": 6,
   "id": "1c65e0ef-84e4-4669-a89f-5154496bc006",
   "metadata": {
    "tags": []
   },
   "outputs": [],
   "source": [
    "c = load_breast_cancer()"
   ]
  },
  {
   "cell_type": "code",
   "execution_count": 7,
   "id": "5ba571e0-320e-4d50-85a5-d23ff0a513c5",
   "metadata": {
    "tags": []
   },
   "outputs": [],
   "source": [
    "x = pd.DataFrame(c.data,columns=c.feature_names)"
   ]
  },
  {
   "cell_type": "code",
   "execution_count": 8,
   "id": "ecc7c009-3f9f-4fa0-b93a-e92bc5d76083",
   "metadata": {
    "tags": []
   },
   "outputs": [
    {
     "data": {
      "text/html": [
       "<div>\n",
       "<style scoped>\n",
       "    .dataframe tbody tr th:only-of-type {\n",
       "        vertical-align: middle;\n",
       "    }\n",
       "\n",
       "    .dataframe tbody tr th {\n",
       "        vertical-align: top;\n",
       "    }\n",
       "\n",
       "    .dataframe thead th {\n",
       "        text-align: right;\n",
       "    }\n",
       "</style>\n",
       "<table border=\"1\" class=\"dataframe\">\n",
       "  <thead>\n",
       "    <tr style=\"text-align: right;\">\n",
       "      <th></th>\n",
       "      <th>mean radius</th>\n",
       "      <th>mean texture</th>\n",
       "      <th>mean perimeter</th>\n",
       "      <th>mean area</th>\n",
       "      <th>mean smoothness</th>\n",
       "      <th>mean compactness</th>\n",
       "      <th>mean concavity</th>\n",
       "      <th>mean concave points</th>\n",
       "      <th>mean symmetry</th>\n",
       "      <th>mean fractal dimension</th>\n",
       "      <th>...</th>\n",
       "      <th>worst radius</th>\n",
       "      <th>worst texture</th>\n",
       "      <th>worst perimeter</th>\n",
       "      <th>worst area</th>\n",
       "      <th>worst smoothness</th>\n",
       "      <th>worst compactness</th>\n",
       "      <th>worst concavity</th>\n",
       "      <th>worst concave points</th>\n",
       "      <th>worst symmetry</th>\n",
       "      <th>worst fractal dimension</th>\n",
       "    </tr>\n",
       "  </thead>\n",
       "  <tbody>\n",
       "    <tr>\n",
       "      <th>0</th>\n",
       "      <td>17.99</td>\n",
       "      <td>10.38</td>\n",
       "      <td>122.80</td>\n",
       "      <td>1001.0</td>\n",
       "      <td>0.11840</td>\n",
       "      <td>0.27760</td>\n",
       "      <td>0.30010</td>\n",
       "      <td>0.14710</td>\n",
       "      <td>0.2419</td>\n",
       "      <td>0.07871</td>\n",
       "      <td>...</td>\n",
       "      <td>25.380</td>\n",
       "      <td>17.33</td>\n",
       "      <td>184.60</td>\n",
       "      <td>2019.0</td>\n",
       "      <td>0.16220</td>\n",
       "      <td>0.66560</td>\n",
       "      <td>0.7119</td>\n",
       "      <td>0.2654</td>\n",
       "      <td>0.4601</td>\n",
       "      <td>0.11890</td>\n",
       "    </tr>\n",
       "    <tr>\n",
       "      <th>1</th>\n",
       "      <td>20.57</td>\n",
       "      <td>17.77</td>\n",
       "      <td>132.90</td>\n",
       "      <td>1326.0</td>\n",
       "      <td>0.08474</td>\n",
       "      <td>0.07864</td>\n",
       "      <td>0.08690</td>\n",
       "      <td>0.07017</td>\n",
       "      <td>0.1812</td>\n",
       "      <td>0.05667</td>\n",
       "      <td>...</td>\n",
       "      <td>24.990</td>\n",
       "      <td>23.41</td>\n",
       "      <td>158.80</td>\n",
       "      <td>1956.0</td>\n",
       "      <td>0.12380</td>\n",
       "      <td>0.18660</td>\n",
       "      <td>0.2416</td>\n",
       "      <td>0.1860</td>\n",
       "      <td>0.2750</td>\n",
       "      <td>0.08902</td>\n",
       "    </tr>\n",
       "    <tr>\n",
       "      <th>2</th>\n",
       "      <td>19.69</td>\n",
       "      <td>21.25</td>\n",
       "      <td>130.00</td>\n",
       "      <td>1203.0</td>\n",
       "      <td>0.10960</td>\n",
       "      <td>0.15990</td>\n",
       "      <td>0.19740</td>\n",
       "      <td>0.12790</td>\n",
       "      <td>0.2069</td>\n",
       "      <td>0.05999</td>\n",
       "      <td>...</td>\n",
       "      <td>23.570</td>\n",
       "      <td>25.53</td>\n",
       "      <td>152.50</td>\n",
       "      <td>1709.0</td>\n",
       "      <td>0.14440</td>\n",
       "      <td>0.42450</td>\n",
       "      <td>0.4504</td>\n",
       "      <td>0.2430</td>\n",
       "      <td>0.3613</td>\n",
       "      <td>0.08758</td>\n",
       "    </tr>\n",
       "    <tr>\n",
       "      <th>3</th>\n",
       "      <td>11.42</td>\n",
       "      <td>20.38</td>\n",
       "      <td>77.58</td>\n",
       "      <td>386.1</td>\n",
       "      <td>0.14250</td>\n",
       "      <td>0.28390</td>\n",
       "      <td>0.24140</td>\n",
       "      <td>0.10520</td>\n",
       "      <td>0.2597</td>\n",
       "      <td>0.09744</td>\n",
       "      <td>...</td>\n",
       "      <td>14.910</td>\n",
       "      <td>26.50</td>\n",
       "      <td>98.87</td>\n",
       "      <td>567.7</td>\n",
       "      <td>0.20980</td>\n",
       "      <td>0.86630</td>\n",
       "      <td>0.6869</td>\n",
       "      <td>0.2575</td>\n",
       "      <td>0.6638</td>\n",
       "      <td>0.17300</td>\n",
       "    </tr>\n",
       "    <tr>\n",
       "      <th>4</th>\n",
       "      <td>20.29</td>\n",
       "      <td>14.34</td>\n",
       "      <td>135.10</td>\n",
       "      <td>1297.0</td>\n",
       "      <td>0.10030</td>\n",
       "      <td>0.13280</td>\n",
       "      <td>0.19800</td>\n",
       "      <td>0.10430</td>\n",
       "      <td>0.1809</td>\n",
       "      <td>0.05883</td>\n",
       "      <td>...</td>\n",
       "      <td>22.540</td>\n",
       "      <td>16.67</td>\n",
       "      <td>152.20</td>\n",
       "      <td>1575.0</td>\n",
       "      <td>0.13740</td>\n",
       "      <td>0.20500</td>\n",
       "      <td>0.4000</td>\n",
       "      <td>0.1625</td>\n",
       "      <td>0.2364</td>\n",
       "      <td>0.07678</td>\n",
       "    </tr>\n",
       "    <tr>\n",
       "      <th>...</th>\n",
       "      <td>...</td>\n",
       "      <td>...</td>\n",
       "      <td>...</td>\n",
       "      <td>...</td>\n",
       "      <td>...</td>\n",
       "      <td>...</td>\n",
       "      <td>...</td>\n",
       "      <td>...</td>\n",
       "      <td>...</td>\n",
       "      <td>...</td>\n",
       "      <td>...</td>\n",
       "      <td>...</td>\n",
       "      <td>...</td>\n",
       "      <td>...</td>\n",
       "      <td>...</td>\n",
       "      <td>...</td>\n",
       "      <td>...</td>\n",
       "      <td>...</td>\n",
       "      <td>...</td>\n",
       "      <td>...</td>\n",
       "      <td>...</td>\n",
       "    </tr>\n",
       "    <tr>\n",
       "      <th>564</th>\n",
       "      <td>21.56</td>\n",
       "      <td>22.39</td>\n",
       "      <td>142.00</td>\n",
       "      <td>1479.0</td>\n",
       "      <td>0.11100</td>\n",
       "      <td>0.11590</td>\n",
       "      <td>0.24390</td>\n",
       "      <td>0.13890</td>\n",
       "      <td>0.1726</td>\n",
       "      <td>0.05623</td>\n",
       "      <td>...</td>\n",
       "      <td>25.450</td>\n",
       "      <td>26.40</td>\n",
       "      <td>166.10</td>\n",
       "      <td>2027.0</td>\n",
       "      <td>0.14100</td>\n",
       "      <td>0.21130</td>\n",
       "      <td>0.4107</td>\n",
       "      <td>0.2216</td>\n",
       "      <td>0.2060</td>\n",
       "      <td>0.07115</td>\n",
       "    </tr>\n",
       "    <tr>\n",
       "      <th>565</th>\n",
       "      <td>20.13</td>\n",
       "      <td>28.25</td>\n",
       "      <td>131.20</td>\n",
       "      <td>1261.0</td>\n",
       "      <td>0.09780</td>\n",
       "      <td>0.10340</td>\n",
       "      <td>0.14400</td>\n",
       "      <td>0.09791</td>\n",
       "      <td>0.1752</td>\n",
       "      <td>0.05533</td>\n",
       "      <td>...</td>\n",
       "      <td>23.690</td>\n",
       "      <td>38.25</td>\n",
       "      <td>155.00</td>\n",
       "      <td>1731.0</td>\n",
       "      <td>0.11660</td>\n",
       "      <td>0.19220</td>\n",
       "      <td>0.3215</td>\n",
       "      <td>0.1628</td>\n",
       "      <td>0.2572</td>\n",
       "      <td>0.06637</td>\n",
       "    </tr>\n",
       "    <tr>\n",
       "      <th>566</th>\n",
       "      <td>16.60</td>\n",
       "      <td>28.08</td>\n",
       "      <td>108.30</td>\n",
       "      <td>858.1</td>\n",
       "      <td>0.08455</td>\n",
       "      <td>0.10230</td>\n",
       "      <td>0.09251</td>\n",
       "      <td>0.05302</td>\n",
       "      <td>0.1590</td>\n",
       "      <td>0.05648</td>\n",
       "      <td>...</td>\n",
       "      <td>18.980</td>\n",
       "      <td>34.12</td>\n",
       "      <td>126.70</td>\n",
       "      <td>1124.0</td>\n",
       "      <td>0.11390</td>\n",
       "      <td>0.30940</td>\n",
       "      <td>0.3403</td>\n",
       "      <td>0.1418</td>\n",
       "      <td>0.2218</td>\n",
       "      <td>0.07820</td>\n",
       "    </tr>\n",
       "    <tr>\n",
       "      <th>567</th>\n",
       "      <td>20.60</td>\n",
       "      <td>29.33</td>\n",
       "      <td>140.10</td>\n",
       "      <td>1265.0</td>\n",
       "      <td>0.11780</td>\n",
       "      <td>0.27700</td>\n",
       "      <td>0.35140</td>\n",
       "      <td>0.15200</td>\n",
       "      <td>0.2397</td>\n",
       "      <td>0.07016</td>\n",
       "      <td>...</td>\n",
       "      <td>25.740</td>\n",
       "      <td>39.42</td>\n",
       "      <td>184.60</td>\n",
       "      <td>1821.0</td>\n",
       "      <td>0.16500</td>\n",
       "      <td>0.86810</td>\n",
       "      <td>0.9387</td>\n",
       "      <td>0.2650</td>\n",
       "      <td>0.4087</td>\n",
       "      <td>0.12400</td>\n",
       "    </tr>\n",
       "    <tr>\n",
       "      <th>568</th>\n",
       "      <td>7.76</td>\n",
       "      <td>24.54</td>\n",
       "      <td>47.92</td>\n",
       "      <td>181.0</td>\n",
       "      <td>0.05263</td>\n",
       "      <td>0.04362</td>\n",
       "      <td>0.00000</td>\n",
       "      <td>0.00000</td>\n",
       "      <td>0.1587</td>\n",
       "      <td>0.05884</td>\n",
       "      <td>...</td>\n",
       "      <td>9.456</td>\n",
       "      <td>30.37</td>\n",
       "      <td>59.16</td>\n",
       "      <td>268.6</td>\n",
       "      <td>0.08996</td>\n",
       "      <td>0.06444</td>\n",
       "      <td>0.0000</td>\n",
       "      <td>0.0000</td>\n",
       "      <td>0.2871</td>\n",
       "      <td>0.07039</td>\n",
       "    </tr>\n",
       "  </tbody>\n",
       "</table>\n",
       "<p>569 rows × 30 columns</p>\n",
       "</div>"
      ],
      "text/plain": [
       "     mean radius  mean texture  mean perimeter  mean area  mean smoothness  \\\n",
       "0          17.99         10.38          122.80     1001.0          0.11840   \n",
       "1          20.57         17.77          132.90     1326.0          0.08474   \n",
       "2          19.69         21.25          130.00     1203.0          0.10960   \n",
       "3          11.42         20.38           77.58      386.1          0.14250   \n",
       "4          20.29         14.34          135.10     1297.0          0.10030   \n",
       "..           ...           ...             ...        ...              ...   \n",
       "564        21.56         22.39          142.00     1479.0          0.11100   \n",
       "565        20.13         28.25          131.20     1261.0          0.09780   \n",
       "566        16.60         28.08          108.30      858.1          0.08455   \n",
       "567        20.60         29.33          140.10     1265.0          0.11780   \n",
       "568         7.76         24.54           47.92      181.0          0.05263   \n",
       "\n",
       "     mean compactness  mean concavity  mean concave points  mean symmetry  \\\n",
       "0             0.27760         0.30010              0.14710         0.2419   \n",
       "1             0.07864         0.08690              0.07017         0.1812   \n",
       "2             0.15990         0.19740              0.12790         0.2069   \n",
       "3             0.28390         0.24140              0.10520         0.2597   \n",
       "4             0.13280         0.19800              0.10430         0.1809   \n",
       "..                ...             ...                  ...            ...   \n",
       "564           0.11590         0.24390              0.13890         0.1726   \n",
       "565           0.10340         0.14400              0.09791         0.1752   \n",
       "566           0.10230         0.09251              0.05302         0.1590   \n",
       "567           0.27700         0.35140              0.15200         0.2397   \n",
       "568           0.04362         0.00000              0.00000         0.1587   \n",
       "\n",
       "     mean fractal dimension  ...  worst radius  worst texture  \\\n",
       "0                   0.07871  ...        25.380          17.33   \n",
       "1                   0.05667  ...        24.990          23.41   \n",
       "2                   0.05999  ...        23.570          25.53   \n",
       "3                   0.09744  ...        14.910          26.50   \n",
       "4                   0.05883  ...        22.540          16.67   \n",
       "..                      ...  ...           ...            ...   \n",
       "564                 0.05623  ...        25.450          26.40   \n",
       "565                 0.05533  ...        23.690          38.25   \n",
       "566                 0.05648  ...        18.980          34.12   \n",
       "567                 0.07016  ...        25.740          39.42   \n",
       "568                 0.05884  ...         9.456          30.37   \n",
       "\n",
       "     worst perimeter  worst area  worst smoothness  worst compactness  \\\n",
       "0             184.60      2019.0           0.16220            0.66560   \n",
       "1             158.80      1956.0           0.12380            0.18660   \n",
       "2             152.50      1709.0           0.14440            0.42450   \n",
       "3              98.87       567.7           0.20980            0.86630   \n",
       "4             152.20      1575.0           0.13740            0.20500   \n",
       "..               ...         ...               ...                ...   \n",
       "564           166.10      2027.0           0.14100            0.21130   \n",
       "565           155.00      1731.0           0.11660            0.19220   \n",
       "566           126.70      1124.0           0.11390            0.30940   \n",
       "567           184.60      1821.0           0.16500            0.86810   \n",
       "568            59.16       268.6           0.08996            0.06444   \n",
       "\n",
       "     worst concavity  worst concave points  worst symmetry  \\\n",
       "0             0.7119                0.2654          0.4601   \n",
       "1             0.2416                0.1860          0.2750   \n",
       "2             0.4504                0.2430          0.3613   \n",
       "3             0.6869                0.2575          0.6638   \n",
       "4             0.4000                0.1625          0.2364   \n",
       "..               ...                   ...             ...   \n",
       "564           0.4107                0.2216          0.2060   \n",
       "565           0.3215                0.1628          0.2572   \n",
       "566           0.3403                0.1418          0.2218   \n",
       "567           0.9387                0.2650          0.4087   \n",
       "568           0.0000                0.0000          0.2871   \n",
       "\n",
       "     worst fractal dimension  \n",
       "0                    0.11890  \n",
       "1                    0.08902  \n",
       "2                    0.08758  \n",
       "3                    0.17300  \n",
       "4                    0.07678  \n",
       "..                       ...  \n",
       "564                  0.07115  \n",
       "565                  0.06637  \n",
       "566                  0.07820  \n",
       "567                  0.12400  \n",
       "568                  0.07039  \n",
       "\n",
       "[569 rows x 30 columns]"
      ]
     },
     "execution_count": 8,
     "metadata": {},
     "output_type": "execute_result"
    }
   ],
   "source": [
    "x"
   ]
  },
  {
   "cell_type": "code",
   "execution_count": 9,
   "id": "ad61539d-c6cb-4832-b9de-367d3a54697a",
   "metadata": {
    "tags": []
   },
   "outputs": [],
   "source": [
    "y = c.target"
   ]
  },
  {
   "cell_type": "code",
   "execution_count": 11,
   "id": "e46e414c-5ec4-436d-8897-477d668d1dfc",
   "metadata": {
    "tags": []
   },
   "outputs": [],
   "source": [
    "from sklearn.model_selection import train_test_split"
   ]
  },
  {
   "cell_type": "code",
   "execution_count": 12,
   "id": "2ef59dc7-fa52-4170-9e39-698685f2da7e",
   "metadata": {
    "tags": []
   },
   "outputs": [],
   "source": [
    "x_train,x_test,y_train,y_test = train_test_split(x,y,test_size=0.2,random_state=2)\n",
    "from sklearn.preprocessing import StandardScaler\n",
    "sc = StandardScaler()"
   ]
  },
  {
   "cell_type": "code",
   "execution_count": 13,
   "id": "75e781db-2e48-460f-903b-4e1a17a3bf1e",
   "metadata": {
    "tags": []
   },
   "outputs": [],
   "source": [
    "x_train= sc.fit_transform(x_train)\n",
    "x_test = sc.fit_transform(x_test)"
   ]
  },
  {
   "cell_type": "code",
   "execution_count": 14,
   "id": "aeea2e7a-b4de-48b8-aa1b-7a9271531d49",
   "metadata": {
    "tags": []
   },
   "outputs": [
    {
     "data": {
      "text/plain": [
       "array([[-0.01330339,  1.7757658 , -0.01491962, ..., -0.13236958,\n",
       "        -1.08014517, -0.03527943],\n",
       "       [-0.8448276 , -0.6284278 , -0.87702746, ..., -1.11552632,\n",
       "        -0.85773964, -0.72098905],\n",
       "       [ 1.44755936,  0.71180168,  1.47428816, ...,  0.87583964,\n",
       "         0.4967602 ,  0.46321706],\n",
       "       ...,\n",
       "       [-0.46608541, -1.49375484, -0.53234924, ..., -1.32388956,\n",
       "        -1.02997851, -0.75145272],\n",
       "       [-0.50025764, -1.62161319, -0.527814  , ..., -0.0987626 ,\n",
       "         0.35796577, -0.43906159],\n",
       "       [ 0.96060511,  1.21181916,  1.00427242, ...,  0.8956983 ,\n",
       "        -1.23064515,  0.50697397]])"
      ]
     },
     "execution_count": 14,
     "metadata": {},
     "output_type": "execute_result"
    }
   ],
   "source": [
    "x_train"
   ]
  },
  {
   "cell_type": "code",
   "execution_count": 16,
   "id": "4461eb5b-9e9b-4db4-85e9-2c92aaaa9018",
   "metadata": {
    "tags": []
   },
   "outputs": [],
   "source": [
    "import tensorflow as tf\n",
    "tf.random.set_seed(10)\n",
    "from tensorflow import keras"
   ]
  },
  {
   "cell_type": "code",
   "execution_count": 18,
   "id": "ce7e3e21-9694-4ea0-bb02-50d812bbb562",
   "metadata": {
    "tags": []
   },
   "outputs": [],
   "source": [
    "model = keras.Sequential([\n",
    "            keras.layers.Flatten(input_shape=(30,)),\n",
    "            keras.layers.Dense(6,activation='relu',kernel_initializer=\"he_uniform\"),\n",
    "            keras.layers.Dense(6, activation='relu',kernel_initializer=\"he_uniform\"),\n",
    "            keras.layers.Dense(1,activation='sigmoid',kernel_initializer=\"glorot_uniform\")\n",
    "])"
   ]
  },
  {
   "cell_type": "code",
   "execution_count": 20,
   "id": "b73b48dd-082f-484e-9fcb-0ce1b6d11d00",
   "metadata": {
    "tags": []
   },
   "outputs": [],
   "source": [
    "model.compile(optimizer='adam',\n",
    "              loss=\"binary_crossentropy\",\n",
    "              metrics=['accuracy'])"
   ]
  },
  {
   "cell_type": "code",
   "execution_count": 22,
   "id": "09f43745-860b-4831-ac46-7626b0b14d96",
   "metadata": {
    "tags": []
   },
   "outputs": [
    {
     "name": "stdout",
     "output_type": "stream",
     "text": [
      "Epoch 1/50\n",
      "13/13 [==============================] - 1s 17ms/step - loss: 0.8950 - accuracy: 0.4132 - val_loss: 0.6369 - val_accuracy: 0.4130\n",
      "Epoch 2/50\n",
      "13/13 [==============================] - 0s 3ms/step - loss: 0.7082 - accuracy: 0.4792 - val_loss: 0.5561 - val_accuracy: 0.4565\n",
      "Epoch 3/50\n",
      "13/13 [==============================] - 0s 3ms/step - loss: 0.5781 - accuracy: 0.6039 - val_loss: 0.4937 - val_accuracy: 0.6739\n",
      "Epoch 4/50\n",
      "13/13 [==============================] - 0s 4ms/step - loss: 0.4894 - accuracy: 0.7897 - val_loss: 0.4455 - val_accuracy: 0.8261\n",
      "Epoch 5/50\n",
      "13/13 [==============================] - 0s 4ms/step - loss: 0.4280 - accuracy: 0.8778 - val_loss: 0.4058 - val_accuracy: 0.9348\n",
      "Epoch 6/50\n",
      "13/13 [==============================] - 0s 4ms/step - loss: 0.3832 - accuracy: 0.9144 - val_loss: 0.3711 - val_accuracy: 0.9565\n",
      "Epoch 7/50\n",
      "13/13 [==============================] - 0s 4ms/step - loss: 0.3470 - accuracy: 0.9315 - val_loss: 0.3394 - val_accuracy: 0.9783\n",
      "Epoch 8/50\n",
      "13/13 [==============================] - 0s 4ms/step - loss: 0.3150 - accuracy: 0.9438 - val_loss: 0.3118 - val_accuracy: 0.9783\n",
      "Epoch 9/50\n",
      "13/13 [==============================] - 0s 4ms/step - loss: 0.2888 - accuracy: 0.9487 - val_loss: 0.2852 - val_accuracy: 0.9783\n",
      "Epoch 10/50\n",
      "13/13 [==============================] - 0s 4ms/step - loss: 0.2638 - accuracy: 0.9535 - val_loss: 0.2608 - val_accuracy: 0.9783\n",
      "Epoch 11/50\n",
      "13/13 [==============================] - 0s 4ms/step - loss: 0.2419 - accuracy: 0.9584 - val_loss: 0.2385 - val_accuracy: 0.9783\n",
      "Epoch 12/50\n",
      "13/13 [==============================] - 0s 4ms/step - loss: 0.2214 - accuracy: 0.9609 - val_loss: 0.2181 - val_accuracy: 0.9783\n",
      "Epoch 13/50\n",
      "13/13 [==============================] - 0s 4ms/step - loss: 0.2027 - accuracy: 0.9633 - val_loss: 0.2002 - val_accuracy: 0.9783\n",
      "Epoch 14/50\n",
      "13/13 [==============================] - 0s 4ms/step - loss: 0.1866 - accuracy: 0.9658 - val_loss: 0.1822 - val_accuracy: 0.9783\n",
      "Epoch 15/50\n",
      "13/13 [==============================] - 0s 3ms/step - loss: 0.1721 - accuracy: 0.9682 - val_loss: 0.1655 - val_accuracy: 0.9783\n",
      "Epoch 16/50\n",
      "13/13 [==============================] - 0s 4ms/step - loss: 0.1584 - accuracy: 0.9682 - val_loss: 0.1511 - val_accuracy: 0.9783\n",
      "Epoch 17/50\n",
      "13/13 [==============================] - 0s 4ms/step - loss: 0.1456 - accuracy: 0.9682 - val_loss: 0.1375 - val_accuracy: 0.9783\n",
      "Epoch 18/50\n",
      "13/13 [==============================] - 0s 4ms/step - loss: 0.1352 - accuracy: 0.9707 - val_loss: 0.1249 - val_accuracy: 0.9783\n",
      "Epoch 19/50\n",
      "13/13 [==============================] - 0s 4ms/step - loss: 0.1265 - accuracy: 0.9707 - val_loss: 0.1140 - val_accuracy: 0.9783\n",
      "Epoch 20/50\n",
      "13/13 [==============================] - 0s 4ms/step - loss: 0.1181 - accuracy: 0.9756 - val_loss: 0.1052 - val_accuracy: 0.9783\n",
      "Epoch 21/50\n",
      "13/13 [==============================] - 0s 4ms/step - loss: 0.1112 - accuracy: 0.9756 - val_loss: 0.0975 - val_accuracy: 0.9783\n",
      "Epoch 22/50\n",
      "13/13 [==============================] - 0s 4ms/step - loss: 0.1049 - accuracy: 0.9756 - val_loss: 0.0912 - val_accuracy: 0.9783\n",
      "Epoch 23/50\n",
      "13/13 [==============================] - 0s 4ms/step - loss: 0.0996 - accuracy: 0.9780 - val_loss: 0.0855 - val_accuracy: 0.9783\n",
      "Epoch 24/50\n",
      "13/13 [==============================] - 0s 4ms/step - loss: 0.0942 - accuracy: 0.9804 - val_loss: 0.0817 - val_accuracy: 0.9783\n",
      "Epoch 25/50\n",
      "13/13 [==============================] - 0s 4ms/step - loss: 0.0903 - accuracy: 0.9829 - val_loss: 0.0780 - val_accuracy: 0.9783\n",
      "Epoch 26/50\n",
      "13/13 [==============================] - 0s 4ms/step - loss: 0.0864 - accuracy: 0.9829 - val_loss: 0.0751 - val_accuracy: 0.9783\n",
      "Epoch 27/50\n",
      "13/13 [==============================] - 0s 4ms/step - loss: 0.0830 - accuracy: 0.9853 - val_loss: 0.0726 - val_accuracy: 0.9783\n",
      "Epoch 28/50\n",
      "13/13 [==============================] - 0s 4ms/step - loss: 0.0801 - accuracy: 0.9853 - val_loss: 0.0703 - val_accuracy: 0.9783\n",
      "Epoch 29/50\n",
      "13/13 [==============================] - 0s 4ms/step - loss: 0.0773 - accuracy: 0.9853 - val_loss: 0.0683 - val_accuracy: 0.9783\n",
      "Epoch 30/50\n",
      "13/13 [==============================] - 0s 4ms/step - loss: 0.0748 - accuracy: 0.9853 - val_loss: 0.0667 - val_accuracy: 0.9783\n",
      "Epoch 31/50\n",
      "13/13 [==============================] - 0s 4ms/step - loss: 0.0725 - accuracy: 0.9853 - val_loss: 0.0653 - val_accuracy: 0.9783\n",
      "Epoch 32/50\n",
      "13/13 [==============================] - 0s 4ms/step - loss: 0.0704 - accuracy: 0.9853 - val_loss: 0.0637 - val_accuracy: 0.9783\n",
      "Epoch 33/50\n",
      "13/13 [==============================] - 0s 4ms/step - loss: 0.0685 - accuracy: 0.9853 - val_loss: 0.0627 - val_accuracy: 0.9783\n",
      "Epoch 34/50\n",
      "13/13 [==============================] - 0s 4ms/step - loss: 0.0666 - accuracy: 0.9878 - val_loss: 0.0617 - val_accuracy: 0.9783\n",
      "Epoch 35/50\n",
      "13/13 [==============================] - 0s 3ms/step - loss: 0.0650 - accuracy: 0.9878 - val_loss: 0.0607 - val_accuracy: 0.9783\n",
      "Epoch 36/50\n",
      "13/13 [==============================] - 0s 3ms/step - loss: 0.0636 - accuracy: 0.9878 - val_loss: 0.0600 - val_accuracy: 0.9783\n",
      "Epoch 37/50\n",
      "13/13 [==============================] - 0s 3ms/step - loss: 0.0620 - accuracy: 0.9878 - val_loss: 0.0592 - val_accuracy: 0.9783\n",
      "Epoch 38/50\n",
      "13/13 [==============================] - 0s 4ms/step - loss: 0.0606 - accuracy: 0.9878 - val_loss: 0.0587 - val_accuracy: 0.9783\n",
      "Epoch 39/50\n",
      "13/13 [==============================] - 0s 3ms/step - loss: 0.0594 - accuracy: 0.9878 - val_loss: 0.0581 - val_accuracy: 0.9783\n",
      "Epoch 40/50\n",
      "13/13 [==============================] - 0s 3ms/step - loss: 0.0582 - accuracy: 0.9878 - val_loss: 0.0575 - val_accuracy: 0.9783\n",
      "Epoch 41/50\n",
      "13/13 [==============================] - 0s 4ms/step - loss: 0.0569 - accuracy: 0.9902 - val_loss: 0.0571 - val_accuracy: 0.9783\n",
      "Epoch 42/50\n",
      "13/13 [==============================] - 0s 4ms/step - loss: 0.0559 - accuracy: 0.9902 - val_loss: 0.0567 - val_accuracy: 0.9783\n",
      "Epoch 43/50\n",
      "13/13 [==============================] - 0s 3ms/step - loss: 0.0549 - accuracy: 0.9902 - val_loss: 0.0564 - val_accuracy: 0.9783\n",
      "Epoch 44/50\n",
      "13/13 [==============================] - 0s 4ms/step - loss: 0.0540 - accuracy: 0.9902 - val_loss: 0.0561 - val_accuracy: 0.9783\n",
      "Epoch 45/50\n",
      "13/13 [==============================] - 0s 3ms/step - loss: 0.0531 - accuracy: 0.9902 - val_loss: 0.0556 - val_accuracy: 0.9783\n",
      "Epoch 46/50\n",
      "13/13 [==============================] - 0s 3ms/step - loss: 0.0522 - accuracy: 0.9902 - val_loss: 0.0553 - val_accuracy: 0.9783\n",
      "Epoch 47/50\n",
      "13/13 [==============================] - 0s 3ms/step - loss: 0.0515 - accuracy: 0.9902 - val_loss: 0.0552 - val_accuracy: 0.9783\n",
      "Epoch 48/50\n",
      "13/13 [==============================] - 0s 4ms/step - loss: 0.0507 - accuracy: 0.9902 - val_loss: 0.0550 - val_accuracy: 0.9783\n",
      "Epoch 49/50\n",
      "13/13 [==============================] - 0s 3ms/step - loss: 0.0500 - accuracy: 0.9902 - val_loss: 0.0547 - val_accuracy: 0.9783\n",
      "Epoch 50/50\n",
      "13/13 [==============================] - 0s 5ms/step - loss: 0.0493 - accuracy: 0.9902 - val_loss: 0.0546 - val_accuracy: 0.9783\n"
     ]
    }
   ],
   "source": [
    "history = model.fit(x_train,y_train,validation_split=0.1,epochs=50)"
   ]
  },
  {
   "cell_type": "code",
   "execution_count": 24,
   "id": "90113b76-60ae-434a-b632-f2b0fe528578",
   "metadata": {
    "tags": []
   },
   "outputs": [
    {
     "name": "stdout",
     "output_type": "stream",
     "text": [
      "dict_keys(['loss', 'accuracy', 'val_loss', 'val_accuracy'])\n"
     ]
    },
    {
     "data": {
      "image/png": "[encoded data removed]",
      "text/plain": [
       "<Figure size 640x480 with 1 Axes>"
      ]
     },
     "metadata": {},
     "output_type": "display_data"
    }
   ],
   "source": [
    "import matplotlib.pyplot as plt\n",
    "print(history.history.keys())\n",
    "plt.plot(history.history['accuracy'])\n",
    "plt.plot(history.history['val_accuracy'])\n",
    "plt.title('model_accuracy')\n",
    "plt.ylabel('accuracy')\n",
    "plt.xlabel('epoch')\n",
    "plt.legend(['train', 'test'], loc='upper left')\n",
    "plt.show()"
   ]
  },
  {
   "cell_type": "code",
   "execution_count": 25,
   "id": "e9e63b86-64ec-4491-93ee-545999be8260",
   "metadata": {
    "tags": []
   },
   "outputs": [
    {
     "data": {
      "image/png": "[encoded data removed]",
      "text/plain": [
       "<Figure size 640x480 with 1 Axes>"
      ]
     },
     "metadata": {},
     "output_type": "display_data"
    }
   ],
   "source": [
    "plt.plot(history.history['loss'])\n",
    "plt.plot(history.history['val_loss'])\n",
    "plt.title('model loss')\n",
    "plt.ylabel('loss')\n",
    "plt.xlabel('epoch')\n",
    "plt.legend(['train', 'test'], loc='upper left')\n",
    "plt.show()"
   ]
  },
  {
   "cell_type": "code",
   "execution_count": 27,
   "id": "1c23d04a-2808-4a88-b37d-a7684130c656",
   "metadata": {
    "tags": []
   },
   "outputs": [
    {
     "name": "stdout",
     "output_type": "stream",
     "text": [
      "4/4 [==============================] - 0s 4ms/step\n"
     ]
    }
   ],
   "source": [
    "y_pred = model.predict(x_test)\n",
    "y_pred = (y_pred > 0.5)"
   ]
  },
  {
   "cell_type": "code",
   "execution_count": 28,
   "id": "a565caad-f085-4d9e-b7f7-9af92f467b29",
   "metadata": {
    "tags": []
   },
   "outputs": [
    {
     "data": {
      "text/plain": [
       "array([[42,  3],\n",
       "       [ 0, 69]], dtype=int64)"
      ]
     },
     "execution_count": 28,
     "metadata": {},
     "output_type": "execute_result"
    }
   ],
   "source": [
    "from sklearn.metrics import confusion_matrix\n",
    "cm = confusion_matrix(y_test, y_pred)\n",
    "cm"
   ]
  },
  {
   "cell_type": "code",
   "execution_count": 29,
   "id": "d8a58c65-87ef-4099-84cc-ee2c03312c6c",
   "metadata": {
    "tags": []
   },
   "outputs": [
    {
     "data": {
      "text/plain": [
       "0.9736842105263158"
      ]
     },
     "execution_count": 29,
     "metadata": {},
     "output_type": "execute_result"
    }
   ],
   "source": [
    "from sklearn.metrics import accuracy_score\n",
    "score=accuracy_score(y_pred,y_test)\n",
    "score"
   ]
  },
  {
   "cell_type": "code",
   "execution_count": null,
   "id": "f0cc7018-cd8c-4736-9e79-447c78b80e1e",
   "metadata": {},
   "outputs": [],
   "source": []
  }
 ],
 "metadata": {
  "kernelspec": {
   "display_name": "Python 3 (ipykernel)",
   "language": "python",
   "name": "python3"
  },
  "language_info": {
   "codemirror_mode": {
    "name": "ipython",
    "version": 3
   },
   "file_extension": ".py",
   "mimetype": "text/x-python",
   "name": "python",
   "nbconvert_exporter": "python",
   "pygments_lexer": "ipython3",
   "version": "3.9.18"
  }
 },
 "nbformat": 4,
 "nbformat_minor": 5
}
