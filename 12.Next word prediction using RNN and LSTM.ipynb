{
 "cells": [
  {
   "cell_type": "markdown",
   "id": "48d119a3",
   "metadata": {},
   "source": [
    "# Using Basic RNN"
   ]
  },
  {
   "cell_type": "code",
   "execution_count": 1,
   "id": "02e75092",
   "metadata": {},
   "outputs": [],
   "source": [
    "import tensorflow as tf\n",
    "import numpy as np"
   ]
  },
  {
   "cell_type": "code",
   "execution_count": 2,
   "id": "8d390c38",
   "metadata": {},
   "outputs": [],
   "source": [
    "# Sample text data\n",
    "text = \"This is a sample text used to demonstrate predictive text with basic RNNs. In this example, we'll predict the next word as you type.\""
   ]
  },
  {
   "cell_type": "code",
   "execution_count": 3,
   "id": "3741c60d",
   "metadata": {},
   "outputs": [],
   "source": [
    "# Preprocess the text and create a vocabulary\n",
    "tokenizer = tf.keras.layers.TextVectorization()\n",
    "tokenizer.adapt(text.split())"
   ]
  },
  {
   "cell_type": "code",
   "execution_count": 5,
   "id": "254dbce4",
   "metadata": {},
   "outputs": [
    {
     "data": {
      "text/plain": [
       "<tf.Tensor: shape=(24,), dtype=int64, numpy=\n",
       "array([ 2, 17, 23, 12,  3,  8, 10, 20, 14,  3,  6, 21, 13, 18,  2, 19,  7,\n",
       "       15, 11, 16,  5, 22,  4,  9], dtype=int64)>"
      ]
     },
     "execution_count": 5,
     "metadata": {},
     "output_type": "execute_result"
    }
   ],
   "source": [
    "# Convert text to sequences of token indices\n",
    "text_sequences = tokenizer(text)\n",
    "text_sequences"
   ]
  },
  {
   "cell_type": "code",
   "execution_count": 6,
   "id": "7f01d522",
   "metadata": {},
   "outputs": [],
   "source": [
    "# Create training data (X) and target data (y)\n",
    "X = text_sequences[:-1]\n",
    "y = text_sequences[1:]"
   ]
  },
  {
   "cell_type": "code",
   "execution_count": 7,
   "id": "7893bf76",
   "metadata": {},
   "outputs": [],
   "source": [
    "# Build a basic RNN model using Keras\n",
    "model = tf.keras.Sequential([\n",
    "    tf.keras.layers.Embedding(input_dim=len(tokenizer.get_vocabulary()), output_dim=64, input_length=1),\n",
    "    tf.keras.layers.SimpleRNN(128, return_sequences=True),\n",
    "    tf.keras.layers.Dense(len(tokenizer.get_vocabulary()), activation='softmax')\n",
    "])"
   ]
  },
  {
   "cell_type": "code",
   "execution_count": 8,
   "id": "32f8601d",
   "metadata": {},
   "outputs": [],
   "source": [
    "model.compile(loss='sparse_categorical_crossentropy', optimizer='adam')"
   ]
  },
  {
   "cell_type": "code",
   "execution_count": 9,
   "id": "992f41af",
   "metadata": {},
   "outputs": [
    {
     "name": "stdout",
     "output_type": "stream",
     "text": [
      "Epoch 1/50\n",
      "1/1 [==============================] - 4s 4s/step - loss: 3.1775\n",
      "Epoch 2/50\n",
      "1/1 [==============================] - 0s 15ms/step - loss: 3.1636\n",
      "Epoch 3/50\n",
      "1/1 [==============================] - 0s 11ms/step - loss: 3.1497\n",
      "Epoch 4/50\n",
      "1/1 [==============================] - 0s 5ms/step - loss: 3.1358\n",
      "Epoch 5/50\n",
      "1/1 [==============================] - 0s 7ms/step - loss: 3.1219\n",
      "Epoch 6/50\n",
      "1/1 [==============================] - 0s 11ms/step - loss: 3.1078\n",
      "Epoch 7/50\n",
      "1/1 [==============================] - 0s 4ms/step - loss: 3.0936\n",
      "Epoch 8/50\n",
      "1/1 [==============================] - 0s 5ms/step - loss: 3.0793\n",
      "Epoch 9/50\n",
      "1/1 [==============================] - 0s 15ms/step - loss: 3.0647\n",
      "Epoch 10/50\n",
      "1/1 [==============================] - 0s 12ms/step - loss: 3.0499\n",
      "Epoch 11/50\n",
      "1/1 [==============================] - 0s 1ms/step - loss: 3.0348\n",
      "Epoch 12/50\n",
      "1/1 [==============================] - 0s 6ms/step - loss: 3.0195\n",
      "Epoch 13/50\n",
      "1/1 [==============================] - 0s 16ms/step - loss: 3.0037\n",
      "Epoch 14/50\n",
      "1/1 [==============================] - 0s 11ms/step - loss: 2.9876\n",
      "Epoch 15/50\n",
      "1/1 [==============================] - 0s 7ms/step - loss: 2.9710\n",
      "Epoch 16/50\n",
      "1/1 [==============================] - 0s 3ms/step - loss: 2.9540\n",
      "Epoch 17/50\n",
      "1/1 [==============================] - 0s 18ms/step - loss: 2.9365\n",
      "Epoch 18/50\n",
      "1/1 [==============================] - 0s 11ms/step - loss: 2.9184\n",
      "Epoch 19/50\n",
      "1/1 [==============================] - 0s 5ms/step - loss: 2.8998\n",
      "Epoch 20/50\n",
      "1/1 [==============================] - 0s 9ms/step - loss: 2.8806\n",
      "Epoch 21/50\n",
      "1/1 [==============================] - 0s 5ms/step - loss: 2.8607\n",
      "Epoch 22/50\n",
      "1/1 [==============================] - 0s 18ms/step - loss: 2.8402\n",
      "Epoch 23/50\n",
      "1/1 [==============================] - 0s 15ms/step - loss: 2.8191\n",
      "Epoch 24/50\n",
      "1/1 [==============================] - 0s 0s/step - loss: 2.7971\n",
      "Epoch 25/50\n",
      "1/1 [==============================] - 0s 6ms/step - loss: 2.7745\n",
      "Epoch 26/50\n",
      "1/1 [==============================] - 0s 16ms/step - loss: 2.7511\n",
      "Epoch 27/50\n",
      "1/1 [==============================] - 0s 12ms/step - loss: 2.7268\n",
      "Epoch 28/50\n",
      "1/1 [==============================] - 0s 4ms/step - loss: 2.7017\n",
      "Epoch 29/50\n",
      "1/1 [==============================] - 0s 804us/step - loss: 2.6758\n",
      "Epoch 30/50\n",
      "1/1 [==============================] - 0s 17ms/step - loss: 2.6490\n",
      "Epoch 31/50\n",
      "1/1 [==============================] - 0s 15ms/step - loss: 2.6213\n",
      "Epoch 32/50\n",
      "1/1 [==============================] - 0s 11ms/step - loss: 2.5927\n",
      "Epoch 33/50\n",
      "1/1 [==============================] - 0s 5ms/step - loss: 2.5631\n",
      "Epoch 34/50\n",
      "1/1 [==============================] - 0s 5ms/step - loss: 2.5326\n",
      "Epoch 35/50\n",
      "1/1 [==============================] - 0s 17ms/step - loss: 2.5011\n",
      "Epoch 36/50\n",
      "1/1 [==============================] - 0s 11ms/step - loss: 2.4686\n",
      "Epoch 37/50\n",
      "1/1 [==============================] - 0s 9ms/step - loss: 2.4351\n",
      "Epoch 38/50\n",
      "1/1 [==============================] - 0s 7ms/step - loss: 2.4006\n",
      "Epoch 39/50\n",
      "1/1 [==============================] - 0s 9ms/step - loss: 2.3650\n",
      "Epoch 40/50\n",
      "1/1 [==============================] - 0s 10ms/step - loss: 2.3284\n",
      "Epoch 41/50\n",
      "1/1 [==============================] - 0s 8ms/step - loss: 2.2908\n",
      "Epoch 42/50\n",
      "1/1 [==============================] - 0s 7ms/step - loss: 2.2522\n",
      "Epoch 43/50\n",
      "1/1 [==============================] - 0s 15ms/step - loss: 2.2125\n",
      "Epoch 44/50\n",
      "1/1 [==============================] - 0s 5ms/step - loss: 2.1718\n",
      "Epoch 45/50\n",
      "1/1 [==============================] - 0s 14ms/step - loss: 2.1301\n",
      "Epoch 46/50\n",
      "1/1 [==============================] - 0s 11ms/step - loss: 2.0875\n",
      "Epoch 47/50\n",
      "1/1 [==============================] - 0s 10ms/step - loss: 2.0439\n",
      "Epoch 48/50\n",
      "1/1 [==============================] - 0s 9ms/step - loss: 1.9994\n",
      "Epoch 49/50\n",
      "1/1 [==============================] - 0s 10ms/step - loss: 1.9540\n",
      "Epoch 50/50\n",
      "1/1 [==============================] - 0s 9ms/step - loss: 1.9077\n"
     ]
    },
    {
     "data": {
      "text/plain": [
       "<keras.src.callbacks.History at 0x1fd9b957fd0>"
      ]
     },
     "execution_count": 9,
     "metadata": {},
     "output_type": "execute_result"
    }
   ],
   "source": [
    "# Train the model\n",
    "model.fit(X, y, epochs=50)"
   ]
  },
  {
   "cell_type": "code",
   "execution_count": 10,
   "id": "ba44e9c7",
   "metadata": {},
   "outputs": [],
   "source": [
    "# Function to generate the next word\n",
    "def generate_next_word(seed_text):\n",
    "    seed_sequence = tokenizer(seed_text)\n",
    "    predicted_probabilities = model.predict(seed_sequence)\n",
    "    predicted_index = np.argmax(predicted_probabilities)\n",
    "    predicted_word = tokenizer.get_vocabulary()[predicted_index]\n",
    "    return predicted_word"
   ]
  },
  {
   "cell_type": "code",
   "execution_count": 13,
   "id": "ccbd5352",
   "metadata": {},
   "outputs": [
    {
     "name": "stdout",
     "output_type": "stream",
     "text": [
      "1/1 [==============================] - 0s 23ms/step\n",
      "Input: 'used', Predicted: 'to'\n"
     ]
    }
   ],
   "source": [
    "# Test the predictive text system\n",
    "input_text = \"used\"\n",
    "predicted_word = generate_next_word(input_text)\n",
    "print(f\"Input: '{input_text}', Predicted: '{predicted_word}'\")"
   ]
  },
  {
   "cell_type": "markdown",
   "id": "6594516b",
   "metadata": {},
   "source": [
    "# Using LSTM"
   ]
  },
  {
   "cell_type": "code",
   "execution_count": 15,
   "id": "6813d424",
   "metadata": {},
   "outputs": [
    {
     "name": "stdout",
     "output_type": "stream",
     "text": [
      "Epoch 1/50\n",
      "1/1 [==============================] - 4s 4s/step - loss: 3.1360\n",
      "Epoch 2/50\n",
      "1/1 [==============================] - 0s 15ms/step - loss: 3.1333\n",
      "Epoch 3/50\n",
      "1/1 [==============================] - 0s 11ms/step - loss: 3.1305\n",
      "Epoch 4/50\n",
      "1/1 [==============================] - 0s 14ms/step - loss: 3.1277\n",
      "Epoch 5/50\n",
      "1/1 [==============================] - 0s 11ms/step - loss: 3.1249\n",
      "Epoch 6/50\n",
      "1/1 [==============================] - 0s 15ms/step - loss: 3.1221\n",
      "Epoch 7/50\n",
      "1/1 [==============================] - 0s 14ms/step - loss: 3.1192\n",
      "Epoch 8/50\n",
      "1/1 [==============================] - 0s 14ms/step - loss: 3.1163\n",
      "Epoch 9/50\n",
      "1/1 [==============================] - 0s 15ms/step - loss: 3.1134\n",
      "Epoch 10/50\n",
      "1/1 [==============================] - 0s 14ms/step - loss: 3.1103\n",
      "Epoch 11/50\n",
      "1/1 [==============================] - 0s 14ms/step - loss: 3.1072\n",
      "Epoch 12/50\n",
      "1/1 [==============================] - 0s 13ms/step - loss: 3.1039\n",
      "Epoch 13/50\n",
      "1/1 [==============================] - 0s 12ms/step - loss: 3.1006\n",
      "Epoch 14/50\n",
      "1/1 [==============================] - 0s 14ms/step - loss: 3.0972\n",
      "Epoch 15/50\n",
      "1/1 [==============================] - 0s 12ms/step - loss: 3.0936\n",
      "Epoch 16/50\n",
      "1/1 [==============================] - 0s 6ms/step - loss: 3.0899\n",
      "Epoch 17/50\n",
      "1/1 [==============================] - 0s 12ms/step - loss: 3.0860\n",
      "Epoch 18/50\n",
      "1/1 [==============================] - 0s 12ms/step - loss: 3.0820\n",
      "Epoch 19/50\n",
      "1/1 [==============================] - 0s 8ms/step - loss: 3.0779\n",
      "Epoch 20/50\n",
      "1/1 [==============================] - 0s 10ms/step - loss: 3.0735\n",
      "Epoch 21/50\n",
      "1/1 [==============================] - 0s 12ms/step - loss: 3.0690\n",
      "Epoch 22/50\n",
      "1/1 [==============================] - 0s 12ms/step - loss: 3.0642\n",
      "Epoch 23/50\n",
      "1/1 [==============================] - 0s 13ms/step - loss: 3.0592\n",
      "Epoch 24/50\n",
      "1/1 [==============================] - 0s 14ms/step - loss: 3.0540\n",
      "Epoch 25/50\n",
      "1/1 [==============================] - 0s 13ms/step - loss: 3.0486\n",
      "Epoch 26/50\n",
      "1/1 [==============================] - 0s 10ms/step - loss: 3.0429\n",
      "Epoch 27/50\n",
      "1/1 [==============================] - 0s 9ms/step - loss: 3.0370\n",
      "Epoch 28/50\n",
      "1/1 [==============================] - 0s 18ms/step - loss: 3.0308\n",
      "Epoch 29/50\n",
      "1/1 [==============================] - 0s 12ms/step - loss: 3.0243\n",
      "Epoch 30/50\n",
      "1/1 [==============================] - 0s 10ms/step - loss: 3.0174\n",
      "Epoch 31/50\n",
      "1/1 [==============================] - 0s 22ms/step - loss: 3.0103\n",
      "Epoch 32/50\n",
      "1/1 [==============================] - 0s 12ms/step - loss: 3.0028\n",
      "Epoch 33/50\n",
      "1/1 [==============================] - 0s 10ms/step - loss: 2.9950\n",
      "Epoch 34/50\n",
      "1/1 [==============================] - 0s 12ms/step - loss: 2.9868\n",
      "Epoch 35/50\n",
      "1/1 [==============================] - 0s 11ms/step - loss: 2.9783\n",
      "Epoch 36/50\n",
      "1/1 [==============================] - 0s 12ms/step - loss: 2.9693\n",
      "Epoch 37/50\n",
      "1/1 [==============================] - 0s 10ms/step - loss: 2.9599\n",
      "Epoch 38/50\n",
      "1/1 [==============================] - 0s 10ms/step - loss: 2.9501\n",
      "Epoch 39/50\n",
      "1/1 [==============================] - 0s 11ms/step - loss: 2.9399\n",
      "Epoch 40/50\n",
      "1/1 [==============================] - 0s 12ms/step - loss: 2.9291\n",
      "Epoch 41/50\n",
      "1/1 [==============================] - 0s 10ms/step - loss: 2.9179\n",
      "Epoch 42/50\n",
      "1/1 [==============================] - 0s 11ms/step - loss: 2.9062\n",
      "Epoch 43/50\n",
      "1/1 [==============================] - 0s 8ms/step - loss: 2.8940\n",
      "Epoch 44/50\n",
      "1/1 [==============================] - 0s 12ms/step - loss: 2.8812\n",
      "Epoch 45/50\n",
      "1/1 [==============================] - 0s 12ms/step - loss: 2.8679\n",
      "Epoch 46/50\n",
      "1/1 [==============================] - 0s 10ms/step - loss: 2.8540\n",
      "Epoch 47/50\n",
      "1/1 [==============================] - 0s 10ms/step - loss: 2.8395\n",
      "Epoch 48/50\n",
      "1/1 [==============================] - 0s 11ms/step - loss: 2.8244\n",
      "Epoch 49/50\n",
      "1/1 [==============================] - 0s 10ms/step - loss: 2.8086\n",
      "Epoch 50/50\n",
      "1/1 [==============================] - 0s 9ms/step - loss: 2.7922\n",
      "1/1 [==============================] - 1s 873ms/step\n",
      "Input: 'This is', Predicted: 'example'\n"
     ]
    }
   ],
   "source": [
    "import tensorflow as tf\n",
    "import numpy as np\n",
    "\n",
    "# Sample text data\n",
    "text = \"This is a sample text used to demonstrate predictive text with LSTM. In this example, we'll predict the next word as you type.\"\n",
    "\n",
    "# Preprocess the text and create a vocabulary\n",
    "tokenizer = tf.keras.layers.TextVectorization()\n",
    "tokenizer.adapt(text.split())\n",
    "\n",
    "# Convert text to sequences of token indices\n",
    "text_sequences = tokenizer(text)\n",
    "\n",
    "# Create training data (X) and target data (y)\n",
    "X = text_sequences[:-1]\n",
    "y = text_sequences[1:]\n",
    "\n",
    "# Build an LSTM model using Keras\n",
    "model = tf.keras.Sequential([\n",
    "    tf.keras.layers.Embedding(input_dim=len(tokenizer.get_vocabulary()), output_dim=64, input_length=1),\n",
    "    tf.keras.layers.LSTM(128, return_sequences=True),\n",
    "    tf.keras.layers.Dense(len(tokenizer.get_vocabulary()), activation='softmax')\n",
    "])\n",
    "\n",
    "model.compile(loss='sparse_categorical_crossentropy', optimizer='adam')\n",
    "\n",
    "# Train the model\n",
    "model.fit(X, y, epochs=50)\n",
    "\n",
    "# Function to generate the next word\n",
    "def generate_next_word(seed_text):\n",
    "    seed_sequence = tokenizer(seed_text)\n",
    "    predicted_probabilities = model.predict(seed_sequence)\n",
    "    predicted_index = np.argmax(predicted_probabilities)\n",
    "    predicted_word = tokenizer.get_vocabulary()[predicted_index]\n",
    "    return predicted_word\n",
    "\n",
    "# Test the predictive text system\n",
    "input_text = \"This is\"\n",
    "predicted_word = generate_next_word(input_text)\n",
    "print(f\"Input: '{input_text}', Predicted: '{predicted_word}'\")\n"
   ]
  },
  {
   "cell_type": "code",
   "execution_count": null,
   "id": "7a5d9be3",
   "metadata": {},
   "outputs": [],
   "source": []
  }
 ],
 "metadata": {
  "kernelspec": {
   "display_name": "Python 3 (ipykernel)",
   "language": "python",
   "name": "python3"
  },
  "language_info": {
   "codemirror_mode": {
    "name": "ipython",
    "version": 3
   },
   "file_extension": ".py",
   "mimetype": "text/x-python",
   "name": "python",
   "nbconvert_exporter": "python",
   "pygments_lexer": "ipython3",
   "version": "3.9.18"
  }
 },
 "nbformat": 4,
 "nbformat_minor": 5
}
