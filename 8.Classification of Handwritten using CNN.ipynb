{
 "cells": [
  {
   "cell_type": "code",
   "execution_count": 1,
   "id": "df4d13c4",
   "metadata": {},
   "outputs": [],
   "source": [
    "from sklearn import datasets\n",
    "from sklearn.model_selection import train_test_split\n",
    "from keras.utils import to_categorical\n",
    "from keras.models import Sequential\n",
    "from keras.layers import Conv2D,MaxPooling2D,Flatten,Dense\n",
    "from keras.callbacks import EarlyStopping,ModelCheckpoint\n",
    "import matplotlib.pyplot as plt"
   ]
  },
  {
   "cell_type": "code",
   "execution_count": 2,
   "id": "4226ef12",
   "metadata": {},
   "outputs": [],
   "source": [
    "data=datasets.load_digits()\n",
    "x=data.images\n",
    "y=data.target"
   ]
  },
  {
   "cell_type": "code",
   "execution_count": 3,
   "id": "95cf0741",
   "metadata": {},
   "outputs": [],
   "source": [
    "x=x.reshape((x.shape[0],8,8,1))\n",
    "x=x.astype('float32')/255\n",
    "y=to_categorical(y)"
   ]
  },
  {
   "cell_type": "code",
   "execution_count": 4,
   "id": "3cfe840a",
   "metadata": {},
   "outputs": [],
   "source": [
    "x_train,x_test,y_train,y_test=train_test_split(x,y,test_size=0.2)"
   ]
  },
  {
   "cell_type": "code",
   "execution_count": 5,
   "id": "8130d426",
   "metadata": {},
   "outputs": [],
   "source": [
    "model=Sequential()\n",
    "model.add(Conv2D(32,kernel_size=(3,3),activation='relu',input_shape=(8,8,1)))\n",
    "model.add(MaxPooling2D(pool_size=(2,2)))\n",
    "model.add(Flatten())\n",
    "model.add(Dense(64,activation='relu'))\n",
    "model.add(Dense(10,activation='softmax'))\n"
   ]
  },
  {
   "cell_type": "code",
   "execution_count": 6,
   "id": "70de1b0a",
   "metadata": {},
   "outputs": [],
   "source": [
    "model.compile(optimizer='adam',loss='categorical_crossentropy',metrics=['accuracy'])"
   ]
  },
  {
   "cell_type": "code",
   "execution_count": 7,
   "id": "c0d2922d",
   "metadata": {},
   "outputs": [],
   "source": [
    "earlystop=EarlyStopping(monitor='val_loss',patience=10)\n",
    "best_weights=ModelCheckpoint('best_weights.h5',save_best_only=True,monitor='val_loss',mode='min')"
   ]
  },
  {
   "cell_type": "code",
   "execution_count": 8,
   "id": "1045345c",
   "metadata": {},
   "outputs": [
    {
     "name": "stdout",
     "output_type": "stream",
     "text": [
      "Epoch 1/50\n",
      "45/45 [==============================] - 1s 8ms/step - loss: 2.2863 - accuracy: 0.2394 - val_loss: 2.2626 - val_accuracy: 0.4306\n",
      "Epoch 2/50\n",
      "45/45 [==============================] - 0s 3ms/step - loss: 2.2159 - accuracy: 0.4934 - val_loss: 2.1515 - val_accuracy: 0.4972\n",
      "Epoch 3/50\n"
     ]
    },
    {
     "name": "stderr",
     "output_type": "stream",
     "text": [
      "C:\\Users\\Student\\AppData\\Roaming\\Python\\Python39\\site-packages\\keras\\src\\engine\\training.py:3000: UserWarning: You are saving your model as an HDF5 file via `model.save()`. This file format is considered legacy. We recommend using instead the native Keras format, e.g. `model.save('my_model.keras')`.\n",
      "  saving_api.save_model(\n"
     ]
    },
    {
     "name": "stdout",
     "output_type": "stream",
     "text": [
      "45/45 [==============================] - 0s 4ms/step - loss: 2.0349 - accuracy: 0.6757 - val_loss: 1.9010 - val_accuracy: 0.5472\n",
      "Epoch 4/50\n",
      "45/45 [==============================] - 0s 4ms/step - loss: 1.7072 - accuracy: 0.6729 - val_loss: 1.5203 - val_accuracy: 0.7472\n",
      "Epoch 5/50\n",
      "45/45 [==============================] - 0s 4ms/step - loss: 1.3286 - accuracy: 0.7711 - val_loss: 1.1848 - val_accuracy: 0.7833\n",
      "Epoch 6/50\n",
      "45/45 [==============================] - 0s 4ms/step - loss: 1.0136 - accuracy: 0.8337 - val_loss: 0.9096 - val_accuracy: 0.8528\n",
      "Epoch 7/50\n",
      "45/45 [==============================] - 0s 4ms/step - loss: 0.8014 - accuracy: 0.8504 - val_loss: 0.7473 - val_accuracy: 0.8472\n",
      "Epoch 8/50\n",
      "45/45 [==============================] - 0s 4ms/step - loss: 0.6611 - accuracy: 0.8664 - val_loss: 0.6421 - val_accuracy: 0.8528\n",
      "Epoch 9/50\n",
      "45/45 [==============================] - 0s 4ms/step - loss: 0.5694 - accuracy: 0.8664 - val_loss: 0.5597 - val_accuracy: 0.8778\n",
      "Epoch 10/50\n",
      "45/45 [==============================] - 0s 4ms/step - loss: 0.5041 - accuracy: 0.8838 - val_loss: 0.4943 - val_accuracy: 0.8917\n",
      "Epoch 11/50\n",
      "45/45 [==============================] - 0s 4ms/step - loss: 0.4535 - accuracy: 0.8956 - val_loss: 0.4526 - val_accuracy: 0.8917\n",
      "Epoch 12/50\n",
      "45/45 [==============================] - 0s 4ms/step - loss: 0.4122 - accuracy: 0.9026 - val_loss: 0.4230 - val_accuracy: 0.8917\n",
      "Epoch 13/50\n",
      "45/45 [==============================] - 0s 3ms/step - loss: 0.3823 - accuracy: 0.9047 - val_loss: 0.4057 - val_accuracy: 0.9028\n",
      "Epoch 14/50\n",
      "45/45 [==============================] - 0s 4ms/step - loss: 0.3500 - accuracy: 0.9186 - val_loss: 0.3648 - val_accuracy: 0.9111\n",
      "Epoch 15/50\n",
      "45/45 [==============================] - 0s 4ms/step - loss: 0.3287 - accuracy: 0.9193 - val_loss: 0.3489 - val_accuracy: 0.9028\n",
      "Epoch 16/50\n",
      "45/45 [==============================] - 0s 4ms/step - loss: 0.3064 - accuracy: 0.9255 - val_loss: 0.3365 - val_accuracy: 0.9028\n",
      "Epoch 17/50\n",
      "45/45 [==============================] - 0s 4ms/step - loss: 0.2886 - accuracy: 0.9255 - val_loss: 0.3178 - val_accuracy: 0.9167\n",
      "Epoch 18/50\n",
      "45/45 [==============================] - 0s 4ms/step - loss: 0.2789 - accuracy: 0.9290 - val_loss: 0.2983 - val_accuracy: 0.9222\n",
      "Epoch 19/50\n",
      "45/45 [==============================] - 0s 4ms/step - loss: 0.2615 - accuracy: 0.9283 - val_loss: 0.2803 - val_accuracy: 0.9306\n",
      "Epoch 20/50\n",
      "45/45 [==============================] - 0s 4ms/step - loss: 0.2466 - accuracy: 0.9388 - val_loss: 0.2750 - val_accuracy: 0.9333\n",
      "Epoch 21/50\n",
      "45/45 [==============================] - 0s 4ms/step - loss: 0.2369 - accuracy: 0.9415 - val_loss: 0.2607 - val_accuracy: 0.9278\n",
      "Epoch 22/50\n",
      "45/45 [==============================] - 0s 4ms/step - loss: 0.2257 - accuracy: 0.9360 - val_loss: 0.2430 - val_accuracy: 0.9417\n",
      "Epoch 23/50\n",
      "45/45 [==============================] - 0s 4ms/step - loss: 0.2188 - accuracy: 0.9429 - val_loss: 0.2418 - val_accuracy: 0.9389\n",
      "Epoch 24/50\n",
      "45/45 [==============================] - 0s 4ms/step - loss: 0.2079 - accuracy: 0.9436 - val_loss: 0.2368 - val_accuracy: 0.9250\n",
      "Epoch 25/50\n",
      "45/45 [==============================] - 0s 3ms/step - loss: 0.1973 - accuracy: 0.9457 - val_loss: 0.2243 - val_accuracy: 0.9472\n",
      "Epoch 26/50\n",
      "45/45 [==============================] - 0s 3ms/step - loss: 0.1890 - accuracy: 0.9478 - val_loss: 0.2227 - val_accuracy: 0.9417\n",
      "Epoch 27/50\n",
      "45/45 [==============================] - 0s 4ms/step - loss: 0.1821 - accuracy: 0.9464 - val_loss: 0.2133 - val_accuracy: 0.9417\n",
      "Epoch 28/50\n",
      "45/45 [==============================] - 0s 4ms/step - loss: 0.1779 - accuracy: 0.9485 - val_loss: 0.2081 - val_accuracy: 0.9361\n",
      "Epoch 29/50\n",
      "45/45 [==============================] - 0s 4ms/step - loss: 0.1701 - accuracy: 0.9513 - val_loss: 0.1981 - val_accuracy: 0.9361\n",
      "Epoch 30/50\n",
      "45/45 [==============================] - 0s 3ms/step - loss: 0.1620 - accuracy: 0.9562 - val_loss: 0.1977 - val_accuracy: 0.9472\n",
      "Epoch 31/50\n",
      "45/45 [==============================] - 0s 4ms/step - loss: 0.1613 - accuracy: 0.9562 - val_loss: 0.1963 - val_accuracy: 0.9444\n",
      "Epoch 32/50\n",
      "45/45 [==============================] - 0s 4ms/step - loss: 0.1549 - accuracy: 0.9562 - val_loss: 0.1839 - val_accuracy: 0.9500\n",
      "Epoch 33/50\n",
      "45/45 [==============================] - 0s 4ms/step - loss: 0.1489 - accuracy: 0.9610 - val_loss: 0.1783 - val_accuracy: 0.9472\n",
      "Epoch 34/50\n",
      "45/45 [==============================] - 0s 4ms/step - loss: 0.1433 - accuracy: 0.9617 - val_loss: 0.1734 - val_accuracy: 0.9500\n",
      "Epoch 35/50\n",
      "45/45 [==============================] - 0s 3ms/step - loss: 0.1377 - accuracy: 0.9603 - val_loss: 0.1740 - val_accuracy: 0.9444\n",
      "Epoch 36/50\n",
      "45/45 [==============================] - 0s 4ms/step - loss: 0.1348 - accuracy: 0.9666 - val_loss: 0.1665 - val_accuracy: 0.9556\n",
      "Epoch 37/50\n",
      "45/45 [==============================] - 0s 5ms/step - loss: 0.1309 - accuracy: 0.9659 - val_loss: 0.1699 - val_accuracy: 0.9500\n",
      "Epoch 38/50\n",
      "45/45 [==============================] - 0s 3ms/step - loss: 0.1287 - accuracy: 0.9631 - val_loss: 0.1647 - val_accuracy: 0.9472\n",
      "Epoch 39/50\n",
      "45/45 [==============================] - 0s 4ms/step - loss: 0.1283 - accuracy: 0.9603 - val_loss: 0.1615 - val_accuracy: 0.9556\n",
      "Epoch 40/50\n",
      "45/45 [==============================] - 0s 4ms/step - loss: 0.1204 - accuracy: 0.9666 - val_loss: 0.1549 - val_accuracy: 0.9611\n",
      "Epoch 41/50\n",
      "45/45 [==============================] - 0s 3ms/step - loss: 0.1152 - accuracy: 0.9701 - val_loss: 0.1525 - val_accuracy: 0.9611\n",
      "Epoch 42/50\n",
      "45/45 [==============================] - 0s 3ms/step - loss: 0.1118 - accuracy: 0.9687 - val_loss: 0.1540 - val_accuracy: 0.9528\n",
      "Epoch 43/50\n",
      "45/45 [==============================] - 0s 3ms/step - loss: 0.1095 - accuracy: 0.9708 - val_loss: 0.1453 - val_accuracy: 0.9639\n",
      "Epoch 44/50\n",
      "45/45 [==============================] - 0s 3ms/step - loss: 0.1062 - accuracy: 0.9701 - val_loss: 0.1433 - val_accuracy: 0.9611\n",
      "Epoch 45/50\n",
      "45/45 [==============================] - 0s 4ms/step - loss: 0.1028 - accuracy: 0.9729 - val_loss: 0.1443 - val_accuracy: 0.9583\n",
      "Epoch 46/50\n",
      "45/45 [==============================] - 0s 3ms/step - loss: 0.0998 - accuracy: 0.9722 - val_loss: 0.1469 - val_accuracy: 0.9528\n",
      "Epoch 47/50\n",
      "45/45 [==============================] - 0s 3ms/step - loss: 0.0965 - accuracy: 0.9722 - val_loss: 0.1523 - val_accuracy: 0.9444\n",
      "Epoch 48/50\n",
      "45/45 [==============================] - 0s 3ms/step - loss: 0.0947 - accuracy: 0.9736 - val_loss: 0.1448 - val_accuracy: 0.9611\n",
      "Epoch 49/50\n",
      "45/45 [==============================] - 0s 4ms/step - loss: 0.0918 - accuracy: 0.9749 - val_loss: 0.1359 - val_accuracy: 0.9639\n",
      "Epoch 50/50\n",
      "45/45 [==============================] - 0s 4ms/step - loss: 0.0911 - accuracy: 0.9770 - val_loss: 0.1288 - val_accuracy: 0.9611\n"
     ]
    }
   ],
   "source": [
    "history=model.fit(x_train,y_train,epochs=50,batch_size=32,validation_data=(x_test,y_test),\n",
    "                  callbacks=[earlystop,best_weights])"
   ]
  },
  {
   "cell_type": "code",
   "execution_count": 9,
   "id": "6c3b470c",
   "metadata": {},
   "outputs": [
    {
     "data": {
      "image/png": "[encoded data removed]",
      "text/plain": [
       "<Figure size 640x480 with 1 Axes>"
      ]
     },
     "metadata": {},
     "output_type": "display_data"
    }
   ],
   "source": [
    "plt.plot(history.history['val_loss'])\n",
    "plt.title('Validation Loss')\n",
    "plt.ylabel('Loss')\n",
    "plt.xlabel('Epoch')\n",
    "plt.show()"
   ]
  },
  {
   "cell_type": "code",
   "execution_count": 10,
   "id": "5131859f",
   "metadata": {},
   "outputs": [
    {
     "data": {
      "image/png": "[encoded data removed]",
      "text/plain": [
       "<Figure size 640x480 with 1 Axes>"
      ]
     },
     "metadata": {},
     "output_type": "display_data"
    }
   ],
   "source": [
    "plt.plot(history.history['val_accuracy'])\n",
    "plt.title('Validation accuracy')\n",
    "plt.ylabel('Accuracy')\n",
    "plt.xlabel('Epoch')\n",
    "plt.show()"
   ]
  },
  {
   "cell_type": "code",
   "execution_count": 11,
   "id": "d6e0b07c",
   "metadata": {},
   "outputs": [],
   "source": [
    "model.load_weights(\"best_weights.h5\")"
   ]
  },
  {
   "cell_type": "code",
   "execution_count": 12,
   "id": "da7fdd2d",
   "metadata": {},
   "outputs": [
    {
     "name": "stdout",
     "output_type": "stream",
     "text": [
      "Test Loss: 0.1287679523229599\n",
      "Test Accuracy: 0.9611111283302307\n"
     ]
    }
   ],
   "source": [
    "test_loss,test_acc=model.evaluate(x_test,y_test,verbose=0)\n",
    "print(\"Test Loss:\",test_loss)\n",
    "print(\"Test Accuracy:\",test_acc)"
   ]
  },
  {
   "cell_type": "code",
   "execution_count": null,
   "id": "0c35c457",
   "metadata": {},
   "outputs": [],
   "source": []
  }
 ],
 "metadata": {
  "kernelspec": {
   "display_name": "Python 3 (ipykernel)",
   "language": "python",
   "name": "python3"
  },
  "language_info": {
   "codemirror_mode": {
    "name": "ipython",
    "version": 3
   },
   "file_extension": ".py",
   "mimetype": "text/x-python",
   "name": "python",
   "nbconvert_exporter": "python",
   "pygments_lexer": "ipython3",
   "version": "3.9.18"
  }
 },
 "nbformat": 4,
 "nbformat_minor": 5
}
