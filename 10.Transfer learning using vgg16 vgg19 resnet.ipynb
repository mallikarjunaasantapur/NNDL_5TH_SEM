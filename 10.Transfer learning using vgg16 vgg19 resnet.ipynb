{
 "cells": [
  {
   "cell_type": "code",
   "execution_count": 39,
   "id": "124945ea",
   "metadata": {},
   "outputs": [],
   "source": [
    "import numpy as np\n",
    "import pandas as pd\n",
    "from tensorflow import keras\n",
    "from tensorflow.keras import layers\n",
    "from tensorflow.keras.applications import VGG16,VGG19,ResNet50\n",
    "from tensorflow.keras.datasets import cifar10\n",
    "from tensorflow.keras.utils import to_categorical"
   ]
  },
  {
   "cell_type": "code",
   "execution_count": 40,
   "id": "2ed5bd2f",
   "metadata": {},
   "outputs": [],
   "source": [
    "(x_train,y_train),(x_test,y_test)=cifar10.load_data()"
   ]
  },
  {
   "cell_type": "code",
   "execution_count": 41,
   "id": "67ce5885",
   "metadata": {},
   "outputs": [],
   "source": [
    "x_train=x_train.astype(\"float32\")/255.0\n",
    "x_test=x_test.astype(\"float32\")/255.0"
   ]
  },
  {
   "cell_type": "code",
   "execution_count": 42,
   "id": "3da56605",
   "metadata": {},
   "outputs": [],
   "source": [
    "y_train=to_categorical(y_train,10)\n",
    "y_test=to_categorical(y_test,10)"
   ]
  },
  {
   "cell_type": "code",
   "execution_count": 43,
   "id": "ec45ae7c",
   "metadata": {},
   "outputs": [],
   "source": [
    "vgg16=VGG16(weights=\"imagenet\",include_top=False,input_shape=(32,32,3))\n",
    "vgg19=VGG19(weights=\"imagenet\",include_top=False,input_shape=(32,32,3))\n",
    "resnet=ResNet50(weights=\"imagenet\",include_top=False,input_shape=(32,32,3))"
   ]
  },
  {
   "cell_type": "code",
   "execution_count": 44,
   "id": "48a6a7b1",
   "metadata": {},
   "outputs": [],
   "source": [
    "vgg16_output=layers.GlobalAveragePooling2D()(vgg16.output)\n",
    "vgg16_output=layers.Dense(10,activation=\"softmax\")(vgg16_output)\n",
    "\n",
    "vgg19_output=layers.GlobalAveragePooling2D()(vgg19.output)\n",
    "vgg19_output=layers.Dense(10,activation=\"softmax\")(vgg19_output)\n",
    "\n",
    "resnet_output=layers.GlobalAveragePooling2D()(resnet.output)\n",
    "resnet_output=layers.Dense(10,activation=\"softmax\")(resnet_output)"
   ]
  },
  {
   "cell_type": "code",
   "execution_count": 45,
   "id": "6c76e3ad",
   "metadata": {},
   "outputs": [],
   "source": [
    "vgg16_model=keras.Model(inputs=vgg16.input,outputs=vgg16_output)\n",
    "vgg19_model=keras.Model(inputs=vgg19.input,outputs=vgg19_output)\n",
    "resnet_model=keras.Model(inputs=resnet.input,outputs=resnet_output)"
   ]
  },
  {
   "cell_type": "code",
   "execution_count": 46,
   "id": "aef4067c",
   "metadata": {},
   "outputs": [],
   "source": [
    "vgg16_model.compile(loss=\"categorical_crossentropy\",optimizer=\"adam\",metrics=['accuracy'])\n",
    "vgg19_model.compile(loss=\"categorical_crossentropy\",optimizer=\"adam\",metrics=['accuracy'])\n",
    "resnet_model.compile(loss=\"categorical_crossentropy\",optimizer=\"adam\",metrics=['accuracy'])"
   ]
  },
  {
   "cell_type": "code",
   "execution_count": 47,
   "id": "3b6fd4f3",
   "metadata": {},
   "outputs": [
    {
     "name": "stdout",
     "output_type": "stream",
     "text": [
      "313/313 [==============================] - 13s 41ms/step - loss: 2.5819 - accuracy: 0.1063\n",
      "313/313 [==============================] - 16s 52ms/step - loss: 2.6089 - accuracy: 0.0972\n",
      "313/313 [==============================] - 15s 44ms/step - loss: 3.9080 - accuracy: 0.0997\n"
     ]
    }
   ],
   "source": [
    "vgg16_loss,vgg16_accuracy=vgg16_model.evaluate(x_test,y_test)\n",
    "vgg19_loss,vgg19_accuracy=vgg19_model.evaluate(x_test,y_test)\n",
    "resnet_loss,resnet_accuracy=resnet_model.evaluate(x_test,y_test)"
   ]
  },
  {
   "cell_type": "code",
   "execution_count": 48,
   "id": "7ee5bca7",
   "metadata": {},
   "outputs": [
    {
     "name": "stdout",
     "output_type": "stream",
     "text": [
      "VGG16 Test Accuracy:  0.1062999963760376\n",
      "VGG19 Test Accuracy:  0.09719999879598618\n",
      "Resnet Test Accuracy:  0.09969999641180038\n"
     ]
    }
   ],
   "source": [
    "print(\"VGG16 Test Accuracy: \",vgg16_accuracy)\n",
    "print(\"VGG19 Test Accuracy: \",vgg19_accuracy)\n",
    "print(\"Resnet Test Accuracy: \",resnet_accuracy)"
   ]
  }
 ],
 "metadata": {
  "kernelspec": {
   "display_name": "Python 3 (ipykernel)",
   "language": "python",
   "name": "python3"
  },
  "language_info": {
   "codemirror_mode": {
    "name": "ipython",
    "version": 3
   },
   "file_extension": ".py",
   "mimetype": "text/x-python",
   "name": "python",
   "nbconvert_exporter": "python",
   "pygments_lexer": "ipython3",
   "version": "3.9.13"
  }
 },
 "nbformat": 4,
 "nbformat_minor": 5
}
